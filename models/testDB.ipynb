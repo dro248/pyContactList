{
 "cells": [
  {
   "cell_type": "code",
   "execution_count": 1,
   "metadata": {},
   "outputs": [],
   "source": [
    "import pymysql"
   ]
  },
  {
   "cell_type": "code",
   "execution_count": 8,
   "metadata": {},
   "outputs": [],
   "source": [
    "class DBConnection:\n",
    "    def __init__(self):\n",
    "        print(\"DBConnection created!\")\n",
    "        self.connection = pymysql.connect(\n",
    "                        db='contact_list', \n",
    "                        user='root', \n",
    "                        passwd='asdfjkl;', \n",
    "                        unix_socket=\"/var/run/mysqld/mysqld.sock\")\n",
    "\n",
    "    def executeSQL(self, sql):\n",
    "        # attempt to execute the sql\n",
    "        print(\"DBConnection.executeSQL entered...\")\n",
    "    \n",
    "        try:\n",
    "            with self.connection.cursor() as cursor:\n",
    "                cursor.execute(sql)\n",
    "           \n",
    "            # connection is not autocommit by default\n",
    "            self.connection.commit() \n",
    "\n",
    "        except:\n",
    "            print(\"SQLERROR: Something broke in DBConnection.executeSQL().\")\n",
    "        \n",
    "#         finally:\n",
    "#             self.connection.close()"
   ]
  },
  {
   "cell_type": "code",
   "execution_count": 9,
   "metadata": {},
   "outputs": [
    {
     "name": "stdout",
     "output_type": "stream",
     "text": [
      "DBConnection created!\n"
     ]
    }
   ],
   "source": [
    "db = DBConnection()"
   ]
  },
  {
   "cell_type": "code",
   "execution_count": 13,
   "metadata": {},
   "outputs": [
    {
     "name": "stdout",
     "output_type": "stream",
     "text": [
      "DBConnection.executeSQL entered...\n",
      "None\n"
     ]
    }
   ],
   "source": [
    "result = db.executeSQL(\"INSERT INTO `person` (`name`, `username`, `password`, `address`, `email`, `photo_url`)                     VALUES ('OSTLER, David', 'dro248', 'asdfjkl;', '', 'david.ostler001@gmail.com', 'https://image.flaticon.com/icons/svg/149/149071.svg')\")\n",
    "print(result)"
   ]
  },
  {
   "cell_type": "code",
   "execution_count": null,
   "metadata": {},
   "outputs": [],
   "source": []
  },
  {
   "cell_type": "code",
   "execution_count": null,
   "metadata": {},
   "outputs": [],
   "source": []
  },
  {
   "cell_type": "code",
   "execution_count": null,
   "metadata": {},
   "outputs": [],
   "source": [
    "import pymysql\n",
    "\n",
    "class DBConnection:\n",
    "    def __init__(self):\n",
    "        print(\"DBConnection created!\")\n",
    "        self.connection = pymysql.connect(\n",
    "                        db='contact_list', \n",
    "                        user='root', \n",
    "                        passwd='asdfjkl;', \n",
    "                        unix_socket=\"/var/run/mysqld/mysqld.sock\")\n",
    "\n",
    "    def executeSQL(self, sql):\n",
    "        # attempt to execute the sql\n",
    "        print(\"DBConnection.executeSQL entered...\")\n",
    "    \n",
    "        try:\n",
    "            with self.connection.cursor() as cursor:\n",
    "                cursor.execute(sql)\n",
    "           \n",
    "            # connection is not autocommit by default\n",
    "            self.connection.commit() \n",
    "\n",
    "        except:\n",
    "            print(\"SQLERROR: Something broke in DBConnection.executeSQL().\")\n",
    "        \n",
    "        finally:\n",
    "            self.connection.close()"
   ]
  }
 ],
 "metadata": {
  "kernelspec": {
   "display_name": "Python 3",
   "language": "python",
   "name": "python3"
  },
  "language_info": {
   "codemirror_mode": {
    "name": "ipython",
    "version": 3
   },
   "file_extension": ".py",
   "mimetype": "text/x-python",
   "name": "python",
   "nbconvert_exporter": "python",
   "pygments_lexer": "ipython3",
   "version": "3.5.2"
  }
 },
 "nbformat": 4,
 "nbformat_minor": 2
}
